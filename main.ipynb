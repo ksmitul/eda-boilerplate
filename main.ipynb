{
 "cells": [
  {
   "cell_type": "code",
   "execution_count": 15,
   "metadata": {},
   "outputs": [],
   "source": [
    "# Using ipython-sql package to execute sql queries inside the notebook\n",
    "%load_ext sql\n",
    "%sql sqlite:///yelp.db"
   ]
  },
  {
   "cell_type": "code",
   "execution_count": 16,
   "metadata": {},
   "outputs": [
    {
     "name": "stdout",
     "output_type": "stream",
     "text": [
      " * sqlite:///yelp.db\n",
      "(sqlite3.OperationalError) near \"%\": syntax error\n",
      "[SQL: %config SqlMagic.displaylimit = 100]\n",
      "(Background on this error at: https://sqlalche.me/e/20/e3q8)\n"
     ]
    }
   ],
   "source": [
    "%%sql\n",
    "%config SqlMagic.displaylimit = 100"
   ]
  },
  {
   "cell_type": "code",
   "execution_count": 17,
   "metadata": {},
   "outputs": [
    {
     "name": "stdout",
     "output_type": "stream",
     "text": [
      " * sqlite:///yelp.db\n",
      "Done.\n"
     ]
    },
    {
     "data": {
      "text/html": [
       "<table>\n",
       "    <thead>\n",
       "        <tr>\n",
       "            <th>name</th>\n",
       "        </tr>\n",
       "    </thead>\n",
       "    <tbody>\n",
       "        <tr>\n",
       "            <td>tips</td>\n",
       "        </tr>\n",
       "        <tr>\n",
       "            <td>users</td>\n",
       "        </tr>\n",
       "    </tbody>\n",
       "</table>"
      ],
      "text/plain": [
       "[('tips',), ('users',)]"
      ]
     },
     "execution_count": 17,
     "metadata": {},
     "output_type": "execute_result"
    }
   ],
   "source": [
    "%%sql\n",
    "SELECT\n",
    "    name\n",
    "FROM\n",
    "    sqlite_master\n",
    "WHERE\n",
    "    type = 'table'"
   ]
  },
  {
   "cell_type": "code",
   "execution_count": 9,
   "metadata": {},
   "outputs": [
    {
     "name": "stdout",
     "output_type": "stream",
     "text": [
      " * sqlite:///yelp.db\n",
      "Done.\n"
     ]
    },
    {
     "data": {
      "text/html": [
       "<table>\n",
       "    <thead>\n",
       "        <tr>\n",
       "            <th>user_id</th>\n",
       "            <th>business_id</th>\n",
       "            <th>review_text</th>\n",
       "            <th>review_date</th>\n",
       "            <th>compliment_count</th>\n",
       "        </tr>\n",
       "    </thead>\n",
       "    <tbody>\n",
       "        <tr>\n",
       "            <td>AGNUgVwnZUey3gcPCJ76iw</td>\n",
       "            <td>3uLgwr0qeCNMjKenHJwPGQ</td>\n",
       "            <td>Avengers time with the ladies.</td>\n",
       "            <td>2012-05-18 02:17:21</td>\n",
       "            <td>0</td>\n",
       "        </tr>\n",
       "        <tr>\n",
       "            <td>NBN4MgHP9D3cw--SnauTkA</td>\n",
       "            <td>QoezRbYQncpRqyrLH6Iqjg</td>\n",
       "            <td>They have lots of good deserts and tasty cuban sandwiches</td>\n",
       "            <td>2013-02-05 18:35:10</td>\n",
       "            <td>0</td>\n",
       "        </tr>\n",
       "        <tr>\n",
       "            <td>-copOvldyKh1qr-vzkDEvw</td>\n",
       "            <td>MYoRNLb5chwjQe3c_k37Gg</td>\n",
       "            <td>It&#x27;s open even when you think it isn&#x27;t</td>\n",
       "            <td>2013-08-18 00:56:08</td>\n",
       "            <td>0</td>\n",
       "        </tr>\n",
       "        <tr>\n",
       "            <td>FjMQVZjSqY8syIO-53KFKw</td>\n",
       "            <td>hV-bABTK-glh5wj31ps_Jw</td>\n",
       "            <td>Very decent fried chicken</td>\n",
       "            <td>2017-06-27 23:05:38</td>\n",
       "            <td>0</td>\n",
       "        </tr>\n",
       "        <tr>\n",
       "            <td>ld0AperBXk1h6UbqmM80zw</td>\n",
       "            <td>_uN0OudeJ3Zl_tf6nxg5ww</td>\n",
       "            <td>Appetizers.. platter special for lunch</td>\n",
       "            <td>2012-10-06 19:43:09</td>\n",
       "            <td>0</td>\n",
       "        </tr>\n",
       "    </tbody>\n",
       "</table>"
      ],
      "text/plain": [
       "[('AGNUgVwnZUey3gcPCJ76iw', '3uLgwr0qeCNMjKenHJwPGQ', 'Avengers time with the ladies.', '2012-05-18 02:17:21', 0),\n",
       " ('NBN4MgHP9D3cw--SnauTkA', 'QoezRbYQncpRqyrLH6Iqjg', 'They have lots of good deserts and tasty cuban sandwiches', '2013-02-05 18:35:10', 0),\n",
       " ('-copOvldyKh1qr-vzkDEvw', 'MYoRNLb5chwjQe3c_k37Gg', \"It's open even when you think it isn't\", '2013-08-18 00:56:08', 0),\n",
       " ('FjMQVZjSqY8syIO-53KFKw', 'hV-bABTK-glh5wj31ps_Jw', 'Very decent fried chicken', '2017-06-27 23:05:38', 0),\n",
       " ('ld0AperBXk1h6UbqmM80zw', '_uN0OudeJ3Zl_tf6nxg5ww', 'Appetizers.. platter special for lunch', '2012-10-06 19:43:09', 0)]"
      ]
     },
     "execution_count": 9,
     "metadata": {},
     "output_type": "execute_result"
    }
   ],
   "source": [
    "%%sql\n",
    "SELECT * FROM tips LIMIT 5"
   ]
  },
  {
   "cell_type": "markdown",
   "metadata": {},
   "source": [
    "1. Explore user who posted the most reviews in a given time period. "
   ]
  },
  {
   "cell_type": "code",
   "execution_count": 20,
   "metadata": {},
   "outputs": [
    {
     "name": "stdout",
     "output_type": "stream",
     "text": [
      " * sqlite:///yelp.db\n",
      "Done.\n"
     ]
    },
    {
     "data": {
      "text/html": [
       "<table>\n",
       "    <thead>\n",
       "        <tr>\n",
       "            <th>count(*)</th>\n",
       "        </tr>\n",
       "    </thead>\n",
       "    <tbody>\n",
       "        <tr>\n",
       "            <td>1987897</td>\n",
       "        </tr>\n",
       "    </tbody>\n",
       "</table>"
      ],
      "text/plain": [
       "[(1987897,)]"
      ]
     },
     "execution_count": 20,
     "metadata": {},
     "output_type": "execute_result"
    }
   ],
   "source": [
    "%%sql\n",
    "\n",
    "SELECT count(*) from users "
   ]
  }
 ],
 "metadata": {
  "kernelspec": {
   "display_name": "Python 3",
   "language": "python",
   "name": "python3"
  },
  "language_info": {
   "codemirror_mode": {
    "name": "ipython",
    "version": 3
   },
   "file_extension": ".py",
   "mimetype": "text/x-python",
   "name": "python",
   "nbconvert_exporter": "python",
   "pygments_lexer": "ipython3",
   "version": "3.9.6"
  }
 },
 "nbformat": 4,
 "nbformat_minor": 2
}
