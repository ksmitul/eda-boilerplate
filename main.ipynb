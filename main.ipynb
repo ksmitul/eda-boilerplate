{
 "cells": [
  {
   "cell_type": "code",
   "execution_count": 30,
   "metadata": {},
   "outputs": [
    {
     "name": "stdout",
     "output_type": "stream",
     "text": [
      "The sql extension is already loaded. To reload it, use:\n",
      "  %reload_ext sql\n"
     ]
    }
   ],
   "source": [
    "# Using ipython-sql package to execute sql queries inside the notebook\n",
    "%load_ext sql\n",
    "%sql sqlite:///yelp.db"
   ]
  },
  {
   "cell_type": "code",
   "execution_count": 31,
   "metadata": {},
   "outputs": [
    {
     "name": "stdout",
     "output_type": "stream",
     "text": [
      " * sqlite:///yelp.db\n",
      "Done.\n"
     ]
    },
    {
     "data": {
      "text/html": [
       "<table>\n",
       "    <thead>\n",
       "        <tr>\n",
       "            <th>user_id</th>\n",
       "            <th>business_id</th>\n",
       "            <th>review_text</th>\n",
       "            <th>review_date</th>\n",
       "            <th>compliment_count</th>\n",
       "        </tr>\n",
       "    </thead>\n",
       "    <tbody>\n",
       "        <tr>\n",
       "            <td>AGNUgVwnZUey3gcPCJ76iw</td>\n",
       "            <td>3uLgwr0qeCNMjKenHJwPGQ</td>\n",
       "            <td>Avengers time with the ladies.</td>\n",
       "            <td>2012-05-18 02:17:21</td>\n",
       "            <td>0</td>\n",
       "        </tr>\n",
       "        <tr>\n",
       "            <td>NBN4MgHP9D3cw--SnauTkA</td>\n",
       "            <td>QoezRbYQncpRqyrLH6Iqjg</td>\n",
       "            <td>They have lots of good deserts and tasty cuban sandwiches</td>\n",
       "            <td>2013-02-05 18:35:10</td>\n",
       "            <td>0</td>\n",
       "        </tr>\n",
       "        <tr>\n",
       "            <td>-copOvldyKh1qr-vzkDEvw</td>\n",
       "            <td>MYoRNLb5chwjQe3c_k37Gg</td>\n",
       "            <td>It&#x27;s open even when you think it isn&#x27;t</td>\n",
       "            <td>2013-08-18 00:56:08</td>\n",
       "            <td>0</td>\n",
       "        </tr>\n",
       "        <tr>\n",
       "            <td>FjMQVZjSqY8syIO-53KFKw</td>\n",
       "            <td>hV-bABTK-glh5wj31ps_Jw</td>\n",
       "            <td>Very decent fried chicken</td>\n",
       "            <td>2017-06-27 23:05:38</td>\n",
       "            <td>0</td>\n",
       "        </tr>\n",
       "        <tr>\n",
       "            <td>ld0AperBXk1h6UbqmM80zw</td>\n",
       "            <td>_uN0OudeJ3Zl_tf6nxg5ww</td>\n",
       "            <td>Appetizers.. platter special for lunch</td>\n",
       "            <td>2012-10-06 19:43:09</td>\n",
       "            <td>0</td>\n",
       "        </tr>\n",
       "        <tr>\n",
       "            <td>trf3Qcz8qvCDKXiTgjUcEg</td>\n",
       "            <td>7Rm9Ba50bw23KTA8RedZYg</td>\n",
       "            <td>Chili Cup + Single Cheeseburger with onion, pickle, and relish + Vanilla Coca-Cola...so far.</td>\n",
       "            <td>2012-03-13 04:00:52</td>\n",
       "            <td>0</td>\n",
       "        </tr>\n",
       "        <tr>\n",
       "            <td>SMGAlRjyfuYu-c-22zIyOg</td>\n",
       "            <td>kH-0iXqkL7b8UXNpguBMKg</td>\n",
       "            <td>Saturday, Dec 7th 2013, ride Patco&#x27;s Silver Sleigh w/ Santa &amp; his elves on a decorated train into Center City. Trains leave from Lindenwold at 10am, 11:15am, &amp; 12:30pm, and make all stops. Great for kids!</td>\n",
       "            <td>2013-12-03 23:42:15</td>\n",
       "            <td>0</td>\n",
       "        </tr>\n",
       "        <tr>\n",
       "            <td>YVBB9g23nuVJ0u44zK0pSA</td>\n",
       "            <td>jtri188kuhe_AuEOJ51U_A</td>\n",
       "            <td>This is probably the best place in the cool Springs area to watch a game and eat</td>\n",
       "            <td>2016-11-22 22:14:58</td>\n",
       "            <td>0</td>\n",
       "        </tr>\n",
       "        <tr>\n",
       "            <td>VL12EhEdT4OWqGq0nIqkzw</td>\n",
       "            <td>xODBZmX4EmlVvbqtKN7YKg</td>\n",
       "            <td>Tacos</td>\n",
       "            <td>2012-07-27 01:48:24</td>\n",
       "            <td>0</td>\n",
       "        </tr>\n",
       "        <tr>\n",
       "            <td>4ay-fdVks5WMerYL_htkGQ</td>\n",
       "            <td>pICJRcyqW1cF96Q3XhLSbw</td>\n",
       "            <td>Starbucks substitute in boring downtown Tampa. Ugh. Never again!</td>\n",
       "            <td>2012-06-09 22:57:04</td>\n",
       "            <td>0</td>\n",
       "        </tr>\n",
       "    </tbody>\n",
       "</table>"
      ],
      "text/plain": [
       "[('AGNUgVwnZUey3gcPCJ76iw', '3uLgwr0qeCNMjKenHJwPGQ', 'Avengers time with the ladies.', '2012-05-18 02:17:21', 0),\n",
       " ('NBN4MgHP9D3cw--SnauTkA', 'QoezRbYQncpRqyrLH6Iqjg', 'They have lots of good deserts and tasty cuban sandwiches', '2013-02-05 18:35:10', 0),\n",
       " ('-copOvldyKh1qr-vzkDEvw', 'MYoRNLb5chwjQe3c_k37Gg', \"It's open even when you think it isn't\", '2013-08-18 00:56:08', 0),\n",
       " ('FjMQVZjSqY8syIO-53KFKw', 'hV-bABTK-glh5wj31ps_Jw', 'Very decent fried chicken', '2017-06-27 23:05:38', 0),\n",
       " ('ld0AperBXk1h6UbqmM80zw', '_uN0OudeJ3Zl_tf6nxg5ww', 'Appetizers.. platter special for lunch', '2012-10-06 19:43:09', 0),\n",
       " ('trf3Qcz8qvCDKXiTgjUcEg', '7Rm9Ba50bw23KTA8RedZYg', 'Chili Cup + Single Cheeseburger with onion, pickle, and relish + Vanilla Coca-Cola...so far.', '2012-03-13 04:00:52', 0),\n",
       " ('SMGAlRjyfuYu-c-22zIyOg', 'kH-0iXqkL7b8UXNpguBMKg', \"Saturday, Dec 7th 2013, ride Patco's Silver Sleigh w/ Santa & his elves on a decorated train into Center City. Trains leave from Lindenwold at 10am, 11:15am, & 12:30pm, and make all stops. Great for kids!\", '2013-12-03 23:42:15', 0),\n",
       " ('YVBB9g23nuVJ0u44zK0pSA', 'jtri188kuhe_AuEOJ51U_A', 'This is probably the best place in the cool Springs area to watch a game and eat', '2016-11-22 22:14:58', 0),\n",
       " ('VL12EhEdT4OWqGq0nIqkzw', 'xODBZmX4EmlVvbqtKN7YKg', 'Tacos', '2012-07-27 01:48:24', 0),\n",
       " ('4ay-fdVks5WMerYL_htkGQ', 'pICJRcyqW1cF96Q3XhLSbw', 'Starbucks substitute in boring downtown Tampa. Ugh. Never again!', '2012-06-09 22:57:04', 0)]"
      ]
     },
     "execution_count": 31,
     "metadata": {},
     "output_type": "execute_result"
    }
   ],
   "source": [
    "%%sql\n",
    "SELECT *\n",
    "FROM tips\n",
    "LIMIT 10;\n"
   ]
  }
 ],
 "metadata": {
  "kernelspec": {
   "display_name": "Python 3",
   "language": "python",
   "name": "python3"
  },
  "language_info": {
   "codemirror_mode": {
    "name": "ipython",
    "version": 3
   },
   "file_extension": ".py",
   "mimetype": "text/x-python",
   "name": "python",
   "nbconvert_exporter": "python",
   "pygments_lexer": "ipython3",
   "version": "3.9.6"
  }
 },
 "nbformat": 4,
 "nbformat_minor": 2
}
